{
 "cells": [
  {
   "cell_type": "code",
   "execution_count": 3,
   "metadata": {},
   "outputs": [],
   "source": [
    "from unstructured.partition.pdf import partition_pdf\n",
    "\n",
    "pdf_path = \"s42256-024-00879-7.pdf\"\n",
    "elements =partition_pdf(pdf_path)"
   ]
  },
  {
   "cell_type": "code",
   "execution_count": 4,
   "metadata": {},
   "outputs": [
    {
     "data": {
      "text/plain": [
       "1403"
      ]
     },
     "execution_count": 4,
     "metadata": {},
     "output_type": "execute_result"
    }
   ],
   "source": [
    "len(elements)"
   ]
  },
  {
   "cell_type": "code",
   "execution_count": 6,
   "metadata": {},
   "outputs": [
    {
     "name": "stdout",
     "output_type": "stream",
     "text": [
      "0000:\t https://doi.org/10.1038/s42256-024-00879-7\n",
      "0001:\t Efficient and scalable reinforcement learning for large-scale network control\n",
      "0002:\t Received: 18 April 2023\n",
      "0003:\t Chengdong Ma1,2,6, Aming Li2,3,6, Yali Du4,6, Hao Dong5 & Yaodong Yang\n",
      "0004:\t 1,2\n",
      "0005:\t Accepted: 10 July 2024\n",
      "0006:\t Published online: 3 September 2024\n",
      "0007:\t Check for updates\n",
      "0008:\t The primary challenge in the development of large-scale artificial intelligence (AI) systems lies in achieving scalable decision-making— extending the AI models while maintaining sufficient performance. Existing research indicates that distributed AI can improve scalability by decomposing complex tasks and distributing them across collaborative nodes. However, previous technologies suffered from compromised real-world applicability and scalability due to the massive requirement of communication and sampled data. Here we develop a model-based decentralized policy optimization framework, which can be efficiently deployed in multi-agent systems. By leveraging local observation through the agent-level topological decoupling of global dynamics, we prove that this decentralized mechanism achieves accurate estimations of global information. Importantly, we further introduce model learning to reinforce the optimal policy for monotonic improvement with a limited amount of sampled data. Empirical results on diverse scenarios show the superior scalability of our approach, particularly in real-world systems with hundreds of agents, thereby paving the way for scaling up AI systems.\n",
      "0009:\t Achieving scalable decision-making becomes a critical challenge when deploying artificial intelligence (AI) models into large-scale systems1. First, this requires effective information exchange among system enti- ties to help an agent perceive the state of the environment and other agents2. However, owing to constraints and high costs associated with communication3, achieving comprehensive information sharing across the entire system becomes unfeasible (Fig. 1a). For example, in traffic networks, frequent and extensive communication between traffic lights can cause a substantial power loss (Fig. 1b). In some sys- tems involving user information, centralized information collection also increases the risk of privacy leakage4. Second, efficient sample acquisition and learning from limited data are necessary because the cost of agent–environment interaction rises exponentially with the scale of the system5, and in some scenarios, only limited interactions are permitted. Therefore, developing an effective communication\n"
     ]
    }
   ],
   "source": [
    "for idx in range(10):\n",
    "    print(f\"{idx:04d}:\\t\", elements[idx].text)"
   ]
  },
  {
   "cell_type": "code",
   "execution_count": 8,
   "metadata": {},
   "outputs": [
    {
     "name": "stdout",
     "output_type": "stream",
     "text": [
      "0010:\t mode and a sample-efficient approach is crucial for achieving scalable decision-making.\n",
      "0011:\t As an advanced paradigm of distributed AI, multi-agent reinforce- ment learning (MARL) provides a possible solution6,7 and has made progress in various scenarios, including autonomous driving8–12, wire- less communications13,14, multi-player games15,16, power systems17,18 and urban transportation19–24. The advantage of MARL lies in its ability to perform nonlinear fitting solely by data and attain efficient inference. In contrast, traditional methods such as model predictive control (MPC) require precise system dynamics25,26, which are often difficult to obtain in complex systems. Even with accurate dynamics, traditional methods often rely on system linearization27, which inevitably harms performance by disregarding numerous intricate nonlinear factors and system per- turbations inherent in complex systems. In addition, deficiencies in computational efficiency, numerical stability and communication costs\n",
      "0012:\t 1Institute for Artificial Intelligence, Peking University, Beijing, China. 2Center for Multi-Agent Research, Institute for Artificial Intelligence, Peking University, Beijing, China. 3Center for Systems and Control, College of Engineering, Peking University, Beijing, China. 4Department of Informatics, King’s College London, London, UK. 5CFCS, School of CS, Peking University, Beijing, China. 6These authors contributed equally: Chengdong Ma, Aming Li, Yali Du.\n",
      "0013:\t e-mail: yaodong.yang@pku.edu.cn\n",
      "0014:\t Nature Machine Intelligence | Volume 6 | September 2024 | 1006–1020\n",
      "0015:\t 1006\n",
      "0016:\t a\n",
      "0017:\t Centralized learning (CL)\n",
      "0018:\t Model-based decentralized policy optimization\n",
      "0019:\t Independent learning (IL)\n"
     ]
    }
   ],
   "source": [
    "for idx in range(10,20):\n",
    "    print(f\"{idx:04d}:\\t\", elements[idx].text)"
   ]
  },
  {
   "cell_type": "code",
   "execution_count": 9,
   "metadata": {},
   "outputs": [],
   "source": [
    "with open(\"output.txt\", \"w\") as f:\n",
    "    f.write(elements[8].text + \"\\n\")\n",
    "    f.write(elements[9].text + elements[10].text + \"\\n\")\n",
    "    f.write(elements[11].text + \"\\n\")"
   ]
  },
  {
   "cell_type": "code",
   "execution_count": null,
   "metadata": {},
   "outputs": [],
   "source": []
  }
 ],
 "metadata": {
  "kernelspec": {
   "display_name": "pathrag",
   "language": "python",
   "name": "python3"
  },
  "language_info": {
   "codemirror_mode": {
    "name": "ipython",
    "version": 3
   },
   "file_extension": ".py",
   "mimetype": "text/x-python",
   "name": "python",
   "nbconvert_exporter": "python",
   "pygments_lexer": "ipython3",
   "version": "3.12.9"
  }
 },
 "nbformat": 4,
 "nbformat_minor": 2
}
